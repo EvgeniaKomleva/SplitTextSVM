{
 "cells": [
  {
   "cell_type": "markdown",
   "metadata": {},
   "source": [
    "# Разбиение текста на предложения\n",
    "\n",
    "## Суть: \n",
    "разбить сплошной текст на предложения\n",
    "\n",
    "## План действий:\n",
    "1.\tПростым способом найти в тексте места-кандидаты на границу двух предложений, например «точка»( в файле функция sentence_converter)\n",
    "2.\tВручную разметить некоторую обучающую выборку примеров реальных границ предложений(в файле labelled_trigrams2.csv)\n",
    "3.\tОписать кандидаты каким-то числовым вектором признаков(Сделано в файле SentanseTokenization функцией trigram_converter)\n",
    "4.\tПровести классификацию на два класса:(Обучила модель на базе алгоритма SVM в файле TrainSVMModel)\n",
    "    a.\tДействительно являются границами предложений\n",
    "    b.\tНе являются границами предложений\n",
    "    \n",
    "## Как запустить:\n",
    "Сначала запускаем TrainSVMModel, формируется файл SVM_Classifier, его скармливаем в SentanseTokenization,запуская который на тестовых данных получаем искомое разбиение "
   ]
  }
 ],
 "metadata": {
  "kernelspec": {
   "display_name": "Python 3",
   "language": "python",
   "name": "python3"
  },
  "language_info": {
   "codemirror_mode": {
    "name": "ipython",
    "version": 3
   },
   "file_extension": ".py",
   "mimetype": "text/x-python",
   "name": "python",
   "nbconvert_exporter": "python",
   "pygments_lexer": "ipython3",
   "version": "3.7.4"
  }
 },
 "nbformat": 4,
 "nbformat_minor": 2
}
